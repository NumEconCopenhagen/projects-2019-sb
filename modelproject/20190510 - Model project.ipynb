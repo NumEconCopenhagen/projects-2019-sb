{
 "cells": [
  {
   "cell_type": "markdown",
   "metadata": {},
   "source": [
    "# Model project: Solow with natural ressources"
   ]
  },
  {
   "cell_type": "code",
   "execution_count": 1,
   "metadata": {},
   "outputs": [],
   "source": [
    "import numpy as np\n",
    "from scipy import linalg\n",
    "from scipy import optimize\n",
    "import sympy as sm\n",
    "import scipy as sc\n",
    "import ipywidgets as widgets\n",
    "import matplotlib.pyplot as plt\n",
    "from ipywidgets import interact, interactive, fixed, interact_manual\n",
    "sm.init_printing(use_unicode=True)"
   ]
  },
  {
   "cell_type": "markdown",
   "metadata": {},
   "source": [
    "The model considered in this project is a Solow model with a fixed natural ressource, X, which could be interpreted as land. The aim of the project is to describe the effect of the amount of land on the economy through numerical simulation of the model and visualizations. We illustrate the positive effects of savings and technological growth as well as the negative effect of population growth on the economy. Finally, we illustrate the diminishing returns to scale on land in the economy. "
   ]
  },
  {
   "cell_type": "markdown",
   "metadata": {},
   "source": [
    "## The baseline model"
   ]
  },
  {
   "cell_type": "markdown",
   "metadata": {},
   "source": [
    "(1) $ \\quad Y_t = K_t^{\\alpha} (A_tL_t)^{\\beta} X^{\\kappa} $"
   ]
  },
  {
   "cell_type": "markdown",
   "metadata": {},
   "source": [
    "(2) $\\quad K_{t+1} - K_t = s_K Y_t - \\delta K_t $"
   ]
  },
  {
   "cell_type": "markdown",
   "metadata": {},
   "source": [
    "(3) $\\quad L_{t+1} = (1+n)L_t$"
   ]
  },
  {
   "cell_type": "markdown",
   "metadata": {},
   "source": [
    "(4) $\\quad A_{t+1} = (1+g)A_t$"
   ]
  },
  {
   "cell_type": "markdown",
   "metadata": {},
   "source": [
    "We define $z_t$ as the capital/output ratio, $k_t/y_t$. By combining the model equations we can derive the transition equation for z which will be used for solving the model. "
   ]
  },
  {
   "cell_type": "markdown",
   "metadata": {},
   "source": [
    "(5) $\\quad z_{t+1} = (\\frac{1}{(1+n)(1+g)} )^{\\beta} (s + (1-\\delta)z_t )^{1-\\alpha} z_t^{\\alpha}    $"
   ]
  },
  {
   "cell_type": "markdown",
   "metadata": {},
   "source": [
    "(6) $\\quad  y^* = (z^*)^{\\frac{\\alpha}{\\beta + \\kappa}} A_0^{\\frac{\\beta}{\\beta + \\kappa}} \\big( \\frac{X}{L_0} \\big)^{\\frac{\\kappa}{\\beta + \\kappa}} (1+g)^{\\frac{\\beta}{\\beta + \\kappa}} (1+n)^{-\\frac{\\alpha}{\\beta + \\kappa}} $"
   ]
  },
  {
   "cell_type": "markdown",
   "metadata": {},
   "source": [
    "# Solving the model "
   ]
  },
  {
   "cell_type": "markdown",
   "metadata": {},
   "source": [
    "## The algorithm"
   ]
  },
  {
   "cell_type": "markdown",
   "metadata": {},
   "source": [
    "The model is solved by numerically finding the steady state, defined as the point where $z_t = z_{t+1}$. We use equation (5) and construct a root-finding problem by subtracting $z_t$ from both sides: \n",
    "$$ z^* = z_t = z_{t+1} \\Leftrightarrow z_t - (\\frac{1}{(1+n)(1+g)} )^{\\beta} (s + (1-\\delta)z_t )^{1-\\alpha} z_t^{\\alpha} = 0 $$ \n",
    "The root-finding problem is solved using scipys optimization function, in which we use the Brent-method. The Brent-method combines the bisection and the secant method making it a more robust and effective method than any of the two used seperately. It uses the secant method first, but turns to the bisectio method if  The secant method has a superlinear rate of convergence, but it does not have global convergence (can not always find a root). The bisection method does have global convergence, but only has a linear rate of convergence. Thus, by combing the two, we get a method which is faster than the bisection method, and more robust than the secant method. "
   ]
  },
  {
   "cell_type": "markdown",
   "metadata": {},
   "source": [
    "## Numerical solution"
   ]
  },
  {
   "cell_type": "markdown",
   "metadata": {},
   "source": [
    "### The effect of savings, technological growth and population growth. "
   ]
  },
  {
   "cell_type": "markdown",
   "metadata": {},
   "source": [
    "To calculate the value of the capital/output ratio steady state $z^*$ numerically, we define the optimization function and the parameter values below. The optimization function is used to simulate the model, and the simulations are used to create an interactive plot of the steady state value of $z^*$. (Click dots below to view code for simulation and plotting.)"
   ]
  },
  {
   "cell_type": "code",
   "execution_count": 2,
   "metadata": {},
   "outputs": [],
   "source": [
    "#Define the parameters. \n",
    "T = 200\n",
    "k0 = 0.1\n",
    "x = 100\n",
    "A = 100\n",
    "s = 0.2\n",
    "g = 0.05\n",
    "n = 0.05\n",
    "alpha = 1/3\n",
    "beta = 1/3\n",
    "kappa = 1 - alpha - beta\n",
    "delta = 0.05"
   ]
  },
  {
   "cell_type": "code",
   "execution_count": 3,
   "metadata": {},
   "outputs": [],
   "source": [
    "def get_steadystate(s,g,n,alpha,beta,kappa,delta):\n",
    "    ### Function that finds the numerical steady state value for z by using Brent's method. \n",
    "    obj_z = lambda z: z - (1/((1+n)*(1+g)))**beta *(s+(1-delta)*z)**(1-alpha)*z**alpha\n",
    "\n",
    "    result = sc.optimize.root_scalar(obj_z,bracket=[0.1,100],method='brentq')\n",
    "    return result.root\n",
    "\n",
    "def solow_eq(z,x,A,alpha,beta,kappa,delta,s,n,g):\n",
    "    \n",
    "    ### Calculate z_t+1 given value of z_t, as defined by equation (XX) \n",
    "    z_plus = (1/((1+n)*(1+g)))**beta *(s+(1-delta)*z)**(1-alpha)*z**alpha   \n",
    "\n",
    "    return z_plus\n",
    "\n",
    "def simulate_solow_model(k0,x,A,alpha,beta,kappa,delta,s,n,g,T):\n",
    "    ### Function that simulates the model by looping through all t from 1 to T. \n",
    "    ### Returns a list holding the growth path for z. \n",
    "    \n",
    "    # a. initialize\n",
    "    #k_path = [k0]\n",
    "    z0 = k0**(1-alpha) * A**(-beta) * x**(-kappa) \n",
    "    z_path = [z0]\n",
    "    \n",
    "    # b. simulate forward\n",
    "    for t in range(1,T):\n",
    "        \n",
    "        # i. apply solow equation\n",
    "        z_plus = solow_eq(t,x,A,alpha,beta,kappa,delta,s,n,g) \n",
    "                \n",
    "        # ii. save result\n",
    "        z_path.append(z_plus)\n",
    "        \n",
    "    return z_path"
   ]
  },
  {
   "cell_type": "code",
   "execution_count": 4,
   "metadata": {},
   "outputs": [],
   "source": [
    "def _plot_zgrowth(k0,x,A,alpha,beta,kappa,delta,s,n,g,T):\n",
    "\n",
    "    z_path = simulate_solow_model(k0,x,A,alpha,beta,kappa,delta,s,n,g,T) \n",
    "    deg = np.linspace(0,0+T,T) \n",
    "    \n",
    "    #Create figure\n",
    "    fig = plt.figure(figsize=(12, 6))\n",
    "    ax = fig.add_subplot(1,1,1)\n",
    "    ax.plot(z_path, label = 'Growth path for z')\n",
    "    ax.plot(deg,lw=2,label='45 degree') \n",
    "\n",
    "    # Calculate and insert st.st. indicator\n",
    "    stst = get_steadystate(s,g,n,alpha,beta,kappa,delta)\n",
    "    ax.scatter(stst,stst,s=20, marker = 'o', c='green', label= 'steady state')\n",
    "    ax.text(stst + 0.2, stst, f'steady state for z = {stst:6.5f}', horizontalalignment='left', size='medium', color='black')\n",
    "\n",
    "    # Format\n",
    "    ax.set_title('Growth path and steady state for the capital/output ratio, $z_t$')\n",
    "    ax.legend(loc='upper left')\n",
    "    ax.set_xlim([0,10])\n",
    "    ax.set_xlabel('$z_t$')\n",
    "    ax.set_ylabel('$z_{t+1}$')\n",
    "    ax.set_ylim([0,10])\n",
    "    ax.grid(True)\n",
    "    plt.show()"
   ]
  },
  {
   "cell_type": "code",
   "execution_count": 5,
   "metadata": {},
   "outputs": [
    {
     "data": {
      "application/vnd.jupyter.widget-view+json": {
       "model_id": "55d3b6c100424d33b450f455352fe37d",
       "version_major": 2,
       "version_minor": 0
      },
      "text/plain": [
       "interactive(children=(FloatSlider(value=0.2, description='Savings, s', max=0.99, min=0.05, step=0.05), FloatSl…"
      ]
     },
     "metadata": {},
     "output_type": "display_data"
    }
   ],
   "source": [
    "interact(_plot_zgrowth\n",
    "         ,k0=fixed(k0)\n",
    "         ,x=fixed(x)\n",
    "         ,A=fixed(A)\n",
    "         ,alpha=fixed(alpha)#widgets.FloatSlider(description=\"alpha\", min=0.05,max=1-alpha-kappa,step=0.05,value=0.3)\n",
    "         ,beta=fixed(beta) #widgets.FloatSlider(description=\"beta\", min=0.05,max=1-alpha-kappa,step=0.05,value=0.3)\n",
    "         ,kappa=fixed(kappa) #widgets.FloatSlider(description=\"kappa\", min=0.05,max=1-beta-alpha,step=0.05,value=0.3)\n",
    "         ,delta=fixed(delta)\n",
    "         ,s=widgets.FloatSlider(description=\"Savings, s\", min=0.05,max=0.99,step=0.05,value=0.2)\n",
    "         ,n=widgets.FloatSlider(description=\"Pop. growth, n\", min=-0.3,max=1,step=0.001,value=0.05)\n",
    "         ,g=widgets.FloatSlider(description=\"TFP growth, g\", min=0,max=0.96,step=0.05,value=0.3)\n",
    "         ,T=fixed(T));"
   ]
  },
  {
   "cell_type": "markdown",
   "metadata": {},
   "source": [
    "Main (and well-known) takeaways from the interactive diagram of the numerically solved steady state value for the capital / output ratio: \n",
    " - Higher savings yield higher steady state of the capital output ratio. \n",
    " - There is a negative effect from higher population growth on the steady state capital output ratio. \n",
    " - The negative effect from a higher n can be made up for by a higher technological growth rate, g. \n",
    " \n"
   ]
  },
  {
   "cell_type": "markdown",
   "metadata": {},
   "source": [
    "### The effect of the fixed amount of land per capita on income per capita "
   ]
  },
  {
   "cell_type": "markdown",
   "metadata": {},
   "source": [
    "To examine the effect of land on the economy, we turn to the steady state level of income per capita, which is given by equation (6). As we see from the equation, the income per capita depends positively on the steady state capital/output ratio and on the fixed amount of land, X, that the country has. The positive relationship is illustrated in the plot below. "
   ]
  },
  {
   "cell_type": "code",
   "execution_count": 6,
   "metadata": {},
   "outputs": [],
   "source": [
    "def y(x):\n",
    "    ### Function that evaluates the equation for y* given above. \n",
    "    \n",
    "    #Define parameter values (set to plausible) (Defining X/L as x)\n",
    "    s = 0.2\n",
    "    alpha = 1/3\n",
    "    beta = 1/3\n",
    "    kappa = 1/3\n",
    "    delta = 0.05\n",
    "    n = 0.02\n",
    "    g = 0.05\n",
    "    A = 100\n",
    "    \n",
    "    #Find z^*\n",
    "    z = get_steadystate(s,g,n,alpha,beta,kappa,delta)\n",
    "    \n",
    "    #Calculate y \n",
    "    y = z**(alpha/(beta+kappa)) * A**(beta/(beta+kappa)) * x**(kappa/(beta+kappa)) * (1+g)**(beta/(beta+kappa)) * (1+n)**(-kappa/(beta+kappa))\n",
    "    \n",
    "    return y"
   ]
  },
  {
   "cell_type": "code",
   "execution_count": 7,
   "metadata": {},
   "outputs": [
    {
     "data": {
      "image/png": "[encoded data removed]",
      "text/plain": [
       "<Figure size 864x432 with 1 Axes>"
      ]
     },
     "metadata": {
      "needs_background": "light"
     },
     "output_type": "display_data"
    }
   ],
   "source": [
    "# Define an array of x's and apply y function to x\n",
    "x = np.linspace(0,200,100) \n",
    "y_star = y(x)\n",
    "\n",
    "#Create figure\n",
    "fig = plt.figure(figsize=(12, 6))\n",
    "ax = fig.add_subplot(1,1,1)\n",
    "ax.plot(x,y_star, label='$y^*$')\n",
    "ax.set_title('Steady state income per capita as a function of the amount of land per capita')\n",
    "ax.legend(loc='upper left')\n",
    "ax.set_xlabel('Amount of land per capita, x')\n",
    "ax.set_ylabel('Steady state income per capita, $y^*$')\n",
    "ax.grid(True)"
   ]
  },
  {
   "cell_type": "markdown",
   "metadata": {},
   "source": [
    "The plot above shows the positive relationship between the amount of land and the steady state income, ceteris paribus. The graph displays as well the diminishing returns to scale on land through the stalling effect on the steady state income per capita as land gets bigger and bigger. "
   ]
  },
  {
   "cell_type": "markdown",
   "metadata": {},
   "source": [
    "## Sources"
   ]
  },
  {
   "cell_type": "markdown",
   "metadata": {},
   "source": [
    "- The model considered in this project as well as the intuition behind it is taken from Sørensen and Whitta, Introducing Advanced Macroeconomics, chapter 7.  \n",
    "- For this project we have used snippets from the NumEcon Snippets-2019 github repository (https://github.com/NumEconCopenhagen/snippets-2019 ). (Solow snippet for model simulation and Expenditure minimization snippet for the interactive graph.) "
   ]
  }
 ],
 "metadata": {
  "kernelspec": {
   "display_name": "Python 3",
   "language": "python",
   "name": "python3"
  },
  "language_info": {
   "codemirror_mode": {
    "name": "ipython",
    "version": 3
   },
   "file_extension": ".py",
   "mimetype": "text/x-python",
   "name": "python",
   "nbconvert_exporter": "python",
   "pygments_lexer": "ipython3",
   "version": "3.7.1"
  }
 },
 "nbformat": 4,
 "nbformat_minor": 2
}
